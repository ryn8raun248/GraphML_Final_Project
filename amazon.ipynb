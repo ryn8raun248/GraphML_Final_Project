{
 "cells": [
  {
   "attachments": {},
   "cell_type": "markdown",
   "metadata": {},
   "source": [
    "## Amazon Fraud\n",
    "**Author:** Collin Quinn\n",
    "\n",
    "**Description:** The Amazon dataset includes product reviews under the Musical Instruments category. Users with more than 80% helpful votes are labelled as benign entities and users with less than 20% helpful votes are labelled as fraudulent entities. A fraudulent user detection task can be conducted on the Amazon dataset, which is a binary classification task. 25 handcrafted features from <https://arxiv.org/pdf/2005.10150.pdf> are taken as the raw node features . The unique properties such as class imbalance and feature inconsistency make it a great dataset a great example to investigate how GNNs perform on real-world noisy graphs. These graphs are bidirected and not self connected.\n",
    "\n",
    "Users are nodes in the graph, and three relations are: \n",
    "1. U-P-U : it connects users reviewing at least one same product \n",
    "2. U-S-U : it connects users having at least one same star rating within one week \n",
    "3. U-V-U : it connects users with top 5% mutual review text similarities (measured by TF-IDF) among all users.\n",
    "\n",
    "**Statistics:**\n",
    "\n",
    "- Nodes: 11,944\n",
    "\n",
    "- Edges:\n",
    "    - U-P-U: 351,216\n",
    "    - U-S-U: 7,132,958\n",
    "    - U-V-U: 2,073,474\n",
    "\n",
    "- Classes:\n",
    "    - Positive (fraudulent): 821\n",
    "    - Negative (benign): 7,818\n",
    "\n",
    "Unlabeled: 3,305<br>\n",
    "Positive-Negative ratio: 1 : 10.5<br>\n",
    "Node feature size: 25"
   ]
  },
  {
   "cell_type": "code",
   "execution_count": 12,
   "metadata": {},
   "outputs": [],
   "source": [
    "from dgl.data import FraudAmazonDataset, CoraGraphDataset, CiteseerGraphDataset\n",
    "import gnnlens\n",
    "from gnnlens import Writer"
   ]
  },
  {
   "cell_type": "code",
   "execution_count": 22,
   "metadata": {},
   "outputs": [
    {
     "name": "stdout",
     "output_type": "stream",
     "text": [
      "Done loading data from cached files.\n"
     ]
    }
   ],
   "source": [
    "amazon_dataset = FraudAmazonDataset()\n",
    "amazon_graph = amazon_dataset[0]\n",
    "num_classes = amazon_dataset.num_classes\n",
    "feat = amazon_graph.ndata['feature']\n",
    "labels = amazon_graph.ndata['label']\n"
   ]
  },
  {
   "cell_type": "code",
   "execution_count": 24,
   "metadata": {},
   "outputs": [
    {
     "ename": "DGLError",
     "evalue": "Edge type name must be specified if there are more than one edge types.",
     "output_type": "error",
     "traceback": [
      "\u001b[1;31m---------------------------------------------------------------------------\u001b[0m",
      "\u001b[1;31mDGLError\u001b[0m                                  Traceback (most recent call last)",
      "\u001b[1;32mc:\\Users\\quinnc\\Box\\4. Graph ML\\Lab 7\\GraphML_Final_Project\\amazon.ipynb Cell 4\u001b[0m in \u001b[0;36m<module>\u001b[1;34m\u001b[0m\n\u001b[0;32m      <a href='vscode-notebook-cell:/c%3A/Users/quinnc/Box/4.%20Graph%20ML/Lab%207/GraphML_Final_Project/amazon.ipynb#X11sZmlsZQ%3D%3D?line=0'>1</a>\u001b[0m \u001b[39m# Specify the path to create a new directory for dumping data files.\u001b[39;00m\n\u001b[0;32m      <a href='vscode-notebook-cell:/c%3A/Users/quinnc/Box/4.%20Graph%20ML/Lab%207/GraphML_Final_Project/amazon.ipynb#X11sZmlsZQ%3D%3D?line=1'>2</a>\u001b[0m writer \u001b[39m=\u001b[39m Writer(\u001b[39m'\u001b[39m\u001b[39mAmazon4\u001b[39m\u001b[39m'\u001b[39m)\n\u001b[1;32m----> <a href='vscode-notebook-cell:/c%3A/Users/quinnc/Box/4.%20Graph%20ML/Lab%207/GraphML_Final_Project/amazon.ipynb#X11sZmlsZQ%3D%3D?line=2'>3</a>\u001b[0m writer\u001b[39m.\u001b[39;49madd_graph(name\u001b[39m=\u001b[39;49m\u001b[39m'\u001b[39;49m\u001b[39mAmazon\u001b[39;49m\u001b[39m'\u001b[39;49m, \n\u001b[0;32m      <a href='vscode-notebook-cell:/c%3A/Users/quinnc/Box/4.%20Graph%20ML/Lab%207/GraphML_Final_Project/amazon.ipynb#X11sZmlsZQ%3D%3D?line=3'>4</a>\u001b[0m                 graph\u001b[39m=\u001b[39;49mamazon_graph,\n\u001b[0;32m      <a href='vscode-notebook-cell:/c%3A/Users/quinnc/Box/4.%20Graph%20ML/Lab%207/GraphML_Final_Project/amazon.ipynb#X11sZmlsZQ%3D%3D?line=4'>5</a>\u001b[0m                 nlabels\u001b[39m=\u001b[39;49mlabels,\n\u001b[0;32m      <a href='vscode-notebook-cell:/c%3A/Users/quinnc/Box/4.%20Graph%20ML/Lab%207/GraphML_Final_Project/amazon.ipynb#X11sZmlsZQ%3D%3D?line=5'>6</a>\u001b[0m                 num_nlabel_types\u001b[39m=\u001b[39;49mnum_classes)\n\u001b[0;32m      <a href='vscode-notebook-cell:/c%3A/Users/quinnc/Box/4.%20Graph%20ML/Lab%207/GraphML_Final_Project/amazon.ipynb#X11sZmlsZQ%3D%3D?line=6'>7</a>\u001b[0m writer\u001b[39m.\u001b[39mclose()\n",
      "File \u001b[1;32m~\\AppData\\Local\\Packages\\PythonSoftwareFoundation.Python.3.9_qbz5n2kfra8p0\\LocalCache\\local-packages\\Python39\\site-packages\\gnnlens\\writer.py:76\u001b[0m, in \u001b[0;36mWriter.add_graph\u001b[1;34m(self, name, graph, nlabels, num_nlabel_types, eweights)\u001b[0m\n\u001b[0;32m     73\u001b[0m num_nodes \u001b[39m=\u001b[39m graph\u001b[39m.\u001b[39mnum_nodes()\n\u001b[0;32m     74\u001b[0m num_edges \u001b[39m=\u001b[39m graph\u001b[39m.\u001b[39mnum_edges()\n\u001b[1;32m---> 76\u001b[0m srcs, dsts \u001b[39m=\u001b[39m graph\u001b[39m.\u001b[39;49medges()\n\u001b[0;32m     77\u001b[0m srcs \u001b[39m=\u001b[39m F\u001b[39m.\u001b[39masnumpy(srcs)\u001b[39m.\u001b[39mtolist()\n\u001b[0;32m     78\u001b[0m dsts \u001b[39m=\u001b[39m F\u001b[39m.\u001b[39masnumpy(dsts)\u001b[39m.\u001b[39mtolist()\n",
      "File \u001b[1;32m~\\AppData\\Local\\Packages\\PythonSoftwareFoundation.Python.3.9_qbz5n2kfra8p0\\LocalCache\\local-packages\\Python39\\site-packages\\dgl\\view.py:166\u001b[0m, in \u001b[0;36mHeteroEdgeView.__call__\u001b[1;34m(self, *args, **kwargs)\u001b[0m\n\u001b[0;32m    164\u001b[0m \u001b[39mdef\u001b[39;00m \u001b[39m__call__\u001b[39m(\u001b[39mself\u001b[39m, \u001b[39m*\u001b[39margs, \u001b[39m*\u001b[39m\u001b[39m*\u001b[39mkwargs):\n\u001b[0;32m    165\u001b[0m     \u001b[39m\"\"\"Return all the edges.\"\"\"\u001b[39;00m\n\u001b[1;32m--> 166\u001b[0m     \u001b[39mreturn\u001b[39;00m \u001b[39mself\u001b[39m\u001b[39m.\u001b[39m_graph\u001b[39m.\u001b[39mall_edges(\u001b[39m*\u001b[39margs, \u001b[39m*\u001b[39m\u001b[39m*\u001b[39mkwargs)\n",
      "File \u001b[1;32m~\\AppData\\Local\\Packages\\PythonSoftwareFoundation.Python.3.9_qbz5n2kfra8p0\\LocalCache\\local-packages\\Python39\\site-packages\\dgl\\heterograph.py:3417\u001b[0m, in \u001b[0;36mDGLHeteroGraph.all_edges\u001b[1;34m(self, form, order, etype)\u001b[0m\n\u001b[0;32m   3347\u001b[0m \u001b[39mdef\u001b[39;00m \u001b[39mall_edges\u001b[39m(\u001b[39mself\u001b[39m, form\u001b[39m=\u001b[39m\u001b[39m'\u001b[39m\u001b[39muv\u001b[39m\u001b[39m'\u001b[39m, order\u001b[39m=\u001b[39m\u001b[39m'\u001b[39m\u001b[39meid\u001b[39m\u001b[39m'\u001b[39m, etype\u001b[39m=\u001b[39m\u001b[39mNone\u001b[39;00m):\n\u001b[0;32m   3348\u001b[0m     \u001b[39m\"\"\"Return all edges with the specified edge type.\u001b[39;00m\n\u001b[0;32m   3349\u001b[0m \n\u001b[0;32m   3350\u001b[0m \u001b[39m    Parameters\u001b[39;00m\n\u001b[1;32m   (...)\u001b[0m\n\u001b[0;32m   3415\u001b[0m \u001b[39m    out_edges\u001b[39;00m\n\u001b[0;32m   3416\u001b[0m \u001b[39m    \"\"\"\u001b[39;00m\n\u001b[1;32m-> 3417\u001b[0m     src, dst, eid \u001b[39m=\u001b[39m \u001b[39mself\u001b[39m\u001b[39m.\u001b[39m_graph\u001b[39m.\u001b[39medges(\u001b[39mself\u001b[39;49m\u001b[39m.\u001b[39;49mget_etype_id(etype), order)\n\u001b[0;32m   3418\u001b[0m     \u001b[39mif\u001b[39;00m form \u001b[39m==\u001b[39m \u001b[39m'\u001b[39m\u001b[39mall\u001b[39m\u001b[39m'\u001b[39m:\n\u001b[0;32m   3419\u001b[0m         \u001b[39mreturn\u001b[39;00m src, dst, eid\n",
      "File \u001b[1;32m~\\AppData\\Local\\Packages\\PythonSoftwareFoundation.Python.3.9_qbz5n2kfra8p0\\LocalCache\\local-packages\\Python39\\site-packages\\dgl\\heterograph.py:1259\u001b[0m, in \u001b[0;36mDGLHeteroGraph.get_etype_id\u001b[1;34m(self, etype)\u001b[0m\n\u001b[0;32m   1257\u001b[0m \u001b[39mif\u001b[39;00m etype \u001b[39mis\u001b[39;00m \u001b[39mNone\u001b[39;00m:\n\u001b[0;32m   1258\u001b[0m     \u001b[39mif\u001b[39;00m \u001b[39mself\u001b[39m\u001b[39m.\u001b[39m_graph\u001b[39m.\u001b[39mnumber_of_etypes() \u001b[39m!=\u001b[39m \u001b[39m1\u001b[39m:\n\u001b[1;32m-> 1259\u001b[0m         \u001b[39mraise\u001b[39;00m DGLError(\u001b[39m'\u001b[39m\u001b[39mEdge type name must be specified if there are more than one \u001b[39m\u001b[39m'\u001b[39m\n\u001b[0;32m   1260\u001b[0m                        \u001b[39m'\u001b[39m\u001b[39medge types.\u001b[39m\u001b[39m'\u001b[39m)\n\u001b[0;32m   1261\u001b[0m     \u001b[39mreturn\u001b[39;00m \u001b[39m0\u001b[39m\n\u001b[0;32m   1262\u001b[0m etid \u001b[39m=\u001b[39m \u001b[39mself\u001b[39m\u001b[39m.\u001b[39m_etypes_invmap\u001b[39m.\u001b[39mget(\u001b[39mself\u001b[39m\u001b[39m.\u001b[39mto_canonical_etype(etype), \u001b[39mNone\u001b[39;00m)\n",
      "\u001b[1;31mDGLError\u001b[0m: Edge type name must be specified if there are more than one edge types."
     ]
    }
   ],
   "source": [
    "# Specify the path to create a new directory for dumping data files.\n",
    "writer = Writer('Amazon4')\n",
    "writer.add_graph(name='Amazon', \n",
    "                graph=amazon_graph,\n",
    "                nlabels=labels,\n",
    "                num_nlabel_types=num_classes,\n",
    "                e)\n",
    "writer.close()"
   ]
  },
  {
   "cell_type": "code",
   "execution_count": null,
   "metadata": {},
   "outputs": [],
   "source": []
  }
 ],
 "metadata": {
  "kernelspec": {
   "display_name": "Python 3",
   "language": "python",
   "name": "python3"
  },
  "language_info": {
   "codemirror_mode": {
    "name": "ipython",
    "version": 3
   },
   "file_extension": ".py",
   "mimetype": "text/x-python",
   "name": "python",
   "nbconvert_exporter": "python",
   "pygments_lexer": "ipython3",
   "version": "3.9.13"
  },
  "orig_nbformat": 4,
  "vscode": {
   "interpreter": {
    "hash": "74c273137c88c47762b2a82c4e01e0b3e55dad1919a5e713554e7d1e74a2fc70"
   }
  }
 },
 "nbformat": 4,
 "nbformat_minor": 2
}
